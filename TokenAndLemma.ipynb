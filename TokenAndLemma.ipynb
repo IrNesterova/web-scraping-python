{
 "cells": [
  {
   "cell_type": "code",
   "execution_count": 1,
   "metadata": {},
   "outputs": [
    {
     "name": "stderr",
     "output_type": "stream",
     "text": [
      "[nltk_data] Downloading package wordnet to\n",
      "[nltk_data]     C:\\Users\\USER\\AppData\\Roaming\\nltk_data...\n",
      "[nltk_data]   Unzipping corpora\\wordnet.zip.\n"
     ]
    },
    {
     "data": {
      "text/plain": [
       "True"
      ]
     },
     "execution_count": 1,
     "metadata": {},
     "output_type": "execute_result"
    }
   ],
   "source": [
    "import nltk\n",
    "nltk.download('wordnet')"
   ]
  },
  {
   "cell_type": "code",
   "execution_count": null,
   "metadata": {},
   "outputs": [],
   "source": []
  },
  {
   "cell_type": "code",
   "execution_count": 64,
   "metadata": {
    "scrolled": false
   },
   "outputs": [],
   "source": [
    "import re\n",
    "import string\n",
    "import nltk\n",
    "\n",
    "import io\n",
    "from nltk.corpus import stopwords \n",
    "\n",
    "sw_nltk = stopwords.words('english')\n",
    "fTokens = open(\"fileTokens.txt\", mode = \"a\", encoding=\"utf-8\")\n",
    "for i in range(100):\n",
    "    filePath = r\"C:\\Users\\USER\\{}.txt\".format(i+1)\n",
    "    f = io.open(filePath, \"r\", encoding=\"utf-8\")\n",
    "    sentence = f.read()\n",
    "    line = re.sub(r\"[][\\d]\", \"\", sentence)\n",
    "    line = line.replace(\"—\", \" \")\n",
    "    line = line.translate(str.maketrans('', '', string.punctuation))\n",
    "    word_list_cleaned = [word for word in line.split() if word.lower() not in sw_nltk]\n",
    "    new_text = \" \".join(word_list_cleaned)\n",
    "    word_list = nltk.word_tokenize(new_text)\n",
    "\n",
    "    for word in word_list:\n",
    "        fTokens.write(word)\n",
    "        fTokens.write(\"\\n\")\n",
    "      \n",
    "    f.close()\n",
    "fTokens.close()\n",
    "\n",
    "\n",
    "\n",
    "    \n",
    "    \n"
   ]
  },
  {
   "cell_type": "code",
   "execution_count": 65,
   "metadata": {},
   "outputs": [],
   "source": [
    "#я не совсем уверена, что правильно поняла задание, если честно\n",
    "#вот у нас есть токены, я их лемматизирую - мне надо только одну лемму найти или все леммы?\n",
    "import nltk\n",
    "import io\n",
    "from nltk.stem import WordNetLemmatizer \n",
    "lemmatizer = WordNetLemmatizer()\n",
    "fTokens = open(\"fileTokens.txt\", mode = \"r\", encoding = \"utf-8\")\n",
    "fLemmas = open(\"fileLemmasFromTokens.txt\", mode = \"a\", encoding = \"utf-8\")\n",
    "words = fTokens.read()\n",
    "contents_split = words.splitlines()\n",
    "for word in contents_split:\n",
    "    fLemmas.write(word + \" \" + lemmatizer.lemmatize(word) + \"\\n\")\n",
    "fLemmas.close()\n",
    "fTokens.close()\n",
    "\n"
   ]
  },
  {
   "cell_type": "code",
   "execution_count": 3,
   "metadata": {},
   "outputs": [
    {
     "name": "stdout",
     "output_type": "stream",
     "text": [
      "bran and catelyn [0, 65, 67, 5, 76, 45, 80, 58]\n",
      "bran and (all stark warg) [0, 4, 5, 6, 8, 20, 27, 28, 29, 34, 37, 38, 44, 45, 49, 55, 57, 58, 60, 65, 67, 70, 71, 73, 74, 76, 80, 92, 94, 98, 99]\n"
     ]
    }
   ],
   "source": [
    "def intersection(list1, list2):\n",
    "    return list(set(list1).intersection(list2))\n",
    "def union(list1, list2):\n",
    "    return list(set(list1).union(list2))\n",
    "def notin(list1, list2):\n",
    "    return [filter(lambda x: x not in list1, sublist) for sublist in list2]\n",
    "\n",
    "dict = {}\n",
    "import re\n",
    "import string\n",
    "import nltk\n",
    "\n",
    "import io\n",
    "from nltk.corpus import stopwords \n",
    "\n",
    "sw_nltk = stopwords.words('english')\n",
    "fTokens = open(\"fileTokens.txt\", mode = \"a\", encoding=\"utf-8\")\n",
    "for i in range(100):\n",
    "    filePath = r\"C:\\Users\\USER\\{}.txt\".format(i+1)\n",
    "    f = io.open(filePath, \"r\", encoding=\"utf-8\")\n",
    "    sentence = f.read()\n",
    "    line = re.sub(r\"[][\\d]\", \"\", sentence)\n",
    "    line = line.replace(\"—\", \" \")\n",
    "    line = line.translate(str.maketrans('', '', string.punctuation))\n",
    "    word_list_cleaned = [word for word in line.split() if word.lower() not in sw_nltk]\n",
    "    new_text = \" \".join(word_list_cleaned)\n",
    "    word_list = nltk.word_tokenize(new_text)\n",
    "    converted_list = [x.lower() for x in word_list]\n",
    "    uniquewordlist = set(converted_list)\n",
    "    for id, val in enumerate(uniquewordlist):\n",
    "        if val not in dict:\n",
    "            dict[val] = []\n",
    "        if val in dict:\n",
    "            dict[val].append(i)        \n",
    "    f.close()\n",
    "fTokens.close()\n",
    "\n",
    "#boolean search, created sets\n",
    "\n",
    "print(\"bran and catelyn\", intersection(dict['bran'], dict['catelyn']))\n",
    "print(\"bran and (all stark warg)\", intersection(dict['bran'], union(dict['stark'], dict['warg'])))        "
   ]
  },
  {
   "cell_type": "code",
   "execution_count": 26,
   "metadata": {},
   "outputs": [
    {
     "name": "stdout",
     "output_type": "stream",
     "text": [
      "Put your query herebran or catelyn and sansa\n"
     ]
    }
   ],
   "source": [
    "\n"
   ]
  },
  {
   "cell_type": "code",
   "execution_count": null,
   "metadata": {},
   "outputs": [],
   "source": []
  }
 ],
 "metadata": {
  "kernelspec": {
   "display_name": "Python 3",
   "language": "python",
   "name": "python3"
  },
  "language_info": {
   "codemirror_mode": {
    "name": "ipython",
    "version": 3
   },
   "file_extension": ".py",
   "mimetype": "text/x-python",
   "name": "python",
   "nbconvert_exporter": "python",
   "pygments_lexer": "ipython3",
   "version": "3.7.3"
  }
 },
 "nbformat": 4,
 "nbformat_minor": 2
}
